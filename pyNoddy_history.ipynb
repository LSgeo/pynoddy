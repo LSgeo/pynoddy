{
 "cells": [
  {
   "cell_type": "markdown",
   "metadata": {},
   "source": [
    "### Download and visualise Structural Geophysics Atlas \n",
    "Follows the [pynoddy tutorial](https://pynoddy.readthedocs.io/en/latest/notebooks/5-Geophysical-Potential-Fields.html) on read and visualise Geophysical Potential Fields."
   ]
  },
  {
   "cell_type": "code",
   "execution_count": 8,
   "metadata": {},
   "outputs": [],
   "source": [
    "%matplotlib inline\n",
    "\n",
    "import sys, os\n",
    "import matplotlib.pyplot as plt\n",
    "# adjust some settings for matplotlib\n",
    "from matplotlib import rcParams\n",
    "# print rcParams\n",
    "rcParams['font.size'] = 15\n",
    "# determine path of repository to set paths corretly below\n",
    "repo_path = os.path.realpath('../..')\n",
    "import pynoddy\n",
    "import pynoddy.history\n",
    "import pynoddy.output\n",
    "\n",
    "import colorcet as cc\n",
    "import numpy as np\n",
    "\n",
    "from IPython.core.display import HTML\n",
    "# css_file = 'pynoddy.css'\n",
    "# HTML(open(css_file, \"r\").read())"
   ]
  },
  {
   "cell_type": "markdown",
   "metadata": {},
   "source": [
    "## Load history and compute block model"
   ]
  },
  {
   "cell_type": "code",
   "execution_count": 9,
   "metadata": {},
   "outputs": [
    {
     "output_type": "execute_result",
     "data": {
      "text/plain": "''"
     },
     "metadata": {},
     "execution_count": 9
    }
   ],
   "source": [
    "url = \"http://tectonique.net/asg/ch3/ch3_2/his/ftfellip.his\"\n",
    "output_folder = 'output'\n",
    "\n",
    "os.makedirs(output_folder, exist_ok=True)\n",
    "file_name = url.split('/')[-1][:-4]\n",
    "output = output_folder + '/' + file_name\n",
    "history_name = file_name + '.his'\n",
    "\n",
    "his = pynoddy.history.NoddyHistory(url = url)\n",
    "his.determine_model_stratigraphy()\n",
    "his.change_cube_size(500)\n",
    "his.write_history(output_folder + '/' + history_name)\n",
    "# his = pynoddy.history.NoddyHistory(history_name)\n",
    "\n",
    "pynoddy.compute_model(history_name, output)"
   ]
  },
  {
   "cell_type": "markdown",
   "metadata": {},
   "source": [
    "## Visualise profiles of models"
   ]
  },
  {
   "cell_type": "code",
   "execution_count": 10,
   "metadata": {},
   "outputs": [
    {
     "output_type": "execute_result",
     "data": {
      "text/plain": "<matplotlib.axes._subplots.AxesSubplot at 0x18f28723cc0>"
     },
     "metadata": {},
     "execution_count": 10
    },
    {
     "output_type": "display_data",
     "data": {
      "text/plain": "<Figure size 720x720 with 2 Axes>",
      "image/svg+xml": "<?xml version=\"1.0\" encoding=\"utf-8\" standalone=\"no\"?>\r\n<!DOCTYPE svg PUBLIC \"-//W3C//DTD SVG 1.1//EN\"\r\n  \"http://www.w3.org/Graphics/SVG/1.1/DTD/svg11.dtd\">\r\n<!-- Created with matplotlib (https://matplotlib.org/) -->\r\n<svg height=\"504.80376pt\" version=\"1.1\" viewBox=\"0 0 617.004687 504.80376\" width=\"617.004687pt\" xmlns=\"http://www.w3.org/2000/svg\" xmlns:xlink=\"http://www.w3.org/1999/xlink\">\r\n <defs>\r\n  <style type=\"text/css\">\r\n*{stroke-linecap:butt;stroke-linejoin:round;}\r\n  </style>\r\n </defs>\r\n <g id=\"figure_1\">\r\n  <g id=\"patch_1\">\r\n   <path d=\"M 0 504.80376 \r\nL 617.004687 504.80376 \r\nL 617.004687 0 \r\nL 0 0 \r\nz\r\n\" style=\"fill:none;\"/>\r\n  </g>\r\n  <g id=\"axes_1\">\r\n   <g id=\"patch_2\">\r\n    <path d=\"M 51.804687 130.288235 \r\nL 609.804688 130.288235 \r\nL 609.804688 7.2 \r\nL 51.804687 7.2 \r\nz\r\n\" style=\"fill:#ffffff;\"/>\r\n   </g>\r\n   <g clip-path=\"url(#p31f174d6b6)\">\r\n    <image height=\"124\" id=\"image18e512aa1a\" transform=\"scale(1 -1)translate(0 -124)\" width=\"558\" x=\"51.804687\" xlink:href=\"data:image/png;base64,\r\niVBORw0KGgoAAAANSUhEUgAAAi4AAAB8CAYAAABOkzsKAAAABHNCSVQICAgIfAhkiAAAA2tJREFUeJzt3TFuGzEQhtFJnCv4CrmgWwPJAdz4ErmmXQQqEsj2crVa8iff6wWwHHycpb79rp9vBQALen55bP7Nw9PrHU7CVt97HwAAYKsfvQ8AAGdpLSzqyngUFwAghuICwLQUlvkoLgBADMUFgOlsLS0KSx7FBQCIobgAEM8uyzoUFwAghuICQByFZV2KCwAQQ3EBYHgKCxeKCwAQQ3EBYFhKC/9TXACAGAYXACCGqyIAhuFqiK8oLgBADMUFgC5a60qVwoLiAgAEUVwAOIXCwhEUFwAghuICwF21lBaFha8oLgBADMUFgEN5i4V7UlwAgBiKCwA3UVg4k+ICAMRQXABoorDQk+ICAMRQXAD4lMLCSBQXACCG4gLAVVtLi8LCmRQXACCG4gJAVdllIYPiAgDEUFwAFqWwkEhxAQBiKC4Ai1BYmIHiAgDEUFwAJtRaV6oUFjIoLgBADMUFYAIKC6tQXACAGIoLQCCFhVUpLgBADIMLABDDVRFAAI/HwV+KCwAQQ3EBGJDCAtcpLgBADMUFYAAKC2yjuAAAMRQXgA4UFthHcQEAYiguACdQWOAYigsAEENxATjQnj8/rFJYYCvFBQCIobgA7LS3rlQpLLCX4gIAxFBcADZSWKA/xQUAiKG4AHxAYYHxKC4AQAzFBViet1cgh+ICAMRQXIDlKCyQS3EBAGIoLsC0bvkqqEphgREpLgBADMUFiKeswDoUFwAghuICxFFYYF2KCwAQQ3EBhnRrValSVmBGigsAEMPgAgDEcFUEdOVKCGihuAAAMRQX4BRHlJULhQXWpbgAADEUF+AQRxaVKlUFuE5xAQBiKC7ALkcVFmUFaKG4AAAxFBfgrhQV4EiKCwAQQ3EBmny026KsAGdQXACAGIoL0ERZAXpSXACAGIoLsMmvtz+9jwCguAAAORQX4FNKCzASxQUAiGFwAQBiGFwAgBh2XICr7LYAI1JcAIAYigvwD6UFGJniAgDEMLgAADEMLgBADDsugL0WIIbiAgDEMLgAADEMLgBADIMLABDDci4szFIukEZxAQBiKC6wIKUFSKW4AAAxDC4AQAyDCwAQw44LLOD55bGqqh6eXjufBOA2igsAEENxgQldCgvAbBQXACCG4gIT+Kqw2G0BZqG4AAAxFBcIprQAq1FcAIAY71EEd6peKwjbAAAAAElFTkSuQmCC\" y=\"-6.288235\"/>\r\n   </g>\r\n   <g id=\"matplotlib.axis_1\">\r\n    <g id=\"xtick_1\">\r\n     <g id=\"line2d_1\">\r\n      <defs>\r\n       <path d=\"M 0 0 \r\nL 0 3.5 \r\n\" id=\"m589c346017\" style=\"stroke:#000000;stroke-width:0.8;\"/>\r\n      </defs>\r\n      <g>\r\n       <use style=\"stroke:#000000;stroke-width:0.8;\" x=\"52.830423\" xlink:href=\"#m589c346017\" y=\"130.288235\"/>\r\n      </g>\r\n     </g>\r\n     <g id=\"text_1\">\r\n      <!-- 0 -->\r\n      <defs>\r\n       <path d=\"M 31.78125 66.40625 \r\nQ 24.171875 66.40625 20.328125 58.90625 \r\nQ 16.5 51.421875 16.5 36.375 \r\nQ 16.5 21.390625 20.328125 13.890625 \r\nQ 24.171875 6.390625 31.78125 6.390625 \r\nQ 39.453125 6.390625 43.28125 13.890625 \r\nQ 47.125 21.390625 47.125 36.375 \r\nQ 47.125 51.421875 43.28125 58.90625 \r\nQ 39.453125 66.40625 31.78125 66.40625 \r\nz\r\nM 31.78125 74.21875 \r\nQ 44.046875 74.21875 50.515625 64.515625 \r\nQ 56.984375 54.828125 56.984375 36.375 \r\nQ 56.984375 17.96875 50.515625 8.265625 \r\nQ 44.046875 -1.421875 31.78125 -1.421875 \r\nQ 19.53125 -1.421875 13.0625 8.265625 \r\nQ 6.59375 17.96875 6.59375 36.375 \r\nQ 6.59375 54.828125 13.0625 64.515625 \r\nQ 19.53125 74.21875 31.78125 74.21875 \r\nz\r\n\" id=\"DejaVuSans-48\"/>\r\n      </defs>\r\n      <g transform=\"translate(48.058548 148.685892)scale(0.15 -0.15)\">\r\n       <use xlink:href=\"#DejaVuSans-48\"/>\r\n      </g>\r\n     </g>\r\n    </g>\r\n    <g id=\"xtick_2\">\r\n     <g id=\"line2d_2\">\r\n      <g>\r\n       <use style=\"stroke:#000000;stroke-width:0.8;\" x=\"155.403952\" xlink:href=\"#m589c346017\" y=\"130.288235\"/>\r\n      </g>\r\n     </g>\r\n     <g id=\"text_2\">\r\n      <!-- 50 -->\r\n      <defs>\r\n       <path d=\"M 10.796875 72.90625 \r\nL 49.515625 72.90625 \r\nL 49.515625 64.59375 \r\nL 19.828125 64.59375 \r\nL 19.828125 46.734375 \r\nQ 21.96875 47.46875 24.109375 47.828125 \r\nQ 26.265625 48.1875 28.421875 48.1875 \r\nQ 40.625 48.1875 47.75 41.5 \r\nQ 54.890625 34.8125 54.890625 23.390625 \r\nQ 54.890625 11.625 47.5625 5.09375 \r\nQ 40.234375 -1.421875 26.90625 -1.421875 \r\nQ 22.3125 -1.421875 17.546875 -0.640625 \r\nQ 12.796875 0.140625 7.71875 1.703125 \r\nL 7.71875 11.625 \r\nQ 12.109375 9.234375 16.796875 8.0625 \r\nQ 21.484375 6.890625 26.703125 6.890625 \r\nQ 35.15625 6.890625 40.078125 11.328125 \r\nQ 45.015625 15.765625 45.015625 23.390625 \r\nQ 45.015625 31 40.078125 35.4375 \r\nQ 35.15625 39.890625 26.703125 39.890625 \r\nQ 22.75 39.890625 18.8125 39.015625 \r\nQ 14.890625 38.140625 10.796875 36.28125 \r\nz\r\n\" id=\"DejaVuSans-53\"/>\r\n      </defs>\r\n      <g transform=\"translate(145.860202 148.685892)scale(0.15 -0.15)\">\r\n       <use xlink:href=\"#DejaVuSans-53\"/>\r\n       <use x=\"63.623047\" xlink:href=\"#DejaVuSans-48\"/>\r\n      </g>\r\n     </g>\r\n    </g>\r\n    <g id=\"xtick_3\">\r\n     <g id=\"line2d_3\">\r\n      <g>\r\n       <use style=\"stroke:#000000;stroke-width:0.8;\" x=\"257.977482\" xlink:href=\"#m589c346017\" y=\"130.288235\"/>\r\n      </g>\r\n     </g>\r\n     <g id=\"text_3\">\r\n      <!-- 100 -->\r\n      <defs>\r\n       <path d=\"M 12.40625 8.296875 \r\nL 28.515625 8.296875 \r\nL 28.515625 63.921875 \r\nL 10.984375 60.40625 \r\nL 10.984375 69.390625 \r\nL 28.421875 72.90625 \r\nL 38.28125 72.90625 \r\nL 38.28125 8.296875 \r\nL 54.390625 8.296875 \r\nL 54.390625 0 \r\nL 12.40625 0 \r\nz\r\n\" id=\"DejaVuSans-49\"/>\r\n      </defs>\r\n      <g transform=\"translate(243.661857 148.685892)scale(0.15 -0.15)\">\r\n       <use xlink:href=\"#DejaVuSans-49\"/>\r\n       <use x=\"63.623047\" xlink:href=\"#DejaVuSans-48\"/>\r\n       <use x=\"127.246094\" xlink:href=\"#DejaVuSans-48\"/>\r\n      </g>\r\n     </g>\r\n    </g>\r\n    <g id=\"xtick_4\">\r\n     <g id=\"line2d_4\">\r\n      <g>\r\n       <use style=\"stroke:#000000;stroke-width:0.8;\" x=\"360.551011\" xlink:href=\"#m589c346017\" y=\"130.288235\"/>\r\n      </g>\r\n     </g>\r\n     <g id=\"text_4\">\r\n      <!-- 150 -->\r\n      <g transform=\"translate(346.235386 148.685892)scale(0.15 -0.15)\">\r\n       <use xlink:href=\"#DejaVuSans-49\"/>\r\n       <use x=\"63.623047\" xlink:href=\"#DejaVuSans-53\"/>\r\n       <use x=\"127.246094\" xlink:href=\"#DejaVuSans-48\"/>\r\n      </g>\r\n     </g>\r\n    </g>\r\n    <g id=\"xtick_5\">\r\n     <g id=\"line2d_5\">\r\n      <g>\r\n       <use style=\"stroke:#000000;stroke-width:0.8;\" x=\"463.12454\" xlink:href=\"#m589c346017\" y=\"130.288235\"/>\r\n      </g>\r\n     </g>\r\n     <g id=\"text_5\">\r\n      <!-- 200 -->\r\n      <defs>\r\n       <path d=\"M 19.1875 8.296875 \r\nL 53.609375 8.296875 \r\nL 53.609375 0 \r\nL 7.328125 0 \r\nL 7.328125 8.296875 \r\nQ 12.9375 14.109375 22.625 23.890625 \r\nQ 32.328125 33.6875 34.8125 36.53125 \r\nQ 39.546875 41.84375 41.421875 45.53125 \r\nQ 43.3125 49.21875 43.3125 52.78125 \r\nQ 43.3125 58.59375 39.234375 62.25 \r\nQ 35.15625 65.921875 28.609375 65.921875 \r\nQ 23.96875 65.921875 18.8125 64.3125 \r\nQ 13.671875 62.703125 7.8125 59.421875 \r\nL 7.8125 69.390625 \r\nQ 13.765625 71.78125 18.9375 73 \r\nQ 24.125 74.21875 28.421875 74.21875 \r\nQ 39.75 74.21875 46.484375 68.546875 \r\nQ 53.21875 62.890625 53.21875 53.421875 \r\nQ 53.21875 48.921875 51.53125 44.890625 \r\nQ 49.859375 40.875 45.40625 35.40625 \r\nQ 44.1875 33.984375 37.640625 27.21875 \r\nQ 31.109375 20.453125 19.1875 8.296875 \r\nz\r\n\" id=\"DejaVuSans-50\"/>\r\n      </defs>\r\n      <g transform=\"translate(448.808915 148.685892)scale(0.15 -0.15)\">\r\n       <use xlink:href=\"#DejaVuSans-50\"/>\r\n       <use x=\"63.623047\" xlink:href=\"#DejaVuSans-48\"/>\r\n       <use x=\"127.246094\" xlink:href=\"#DejaVuSans-48\"/>\r\n      </g>\r\n     </g>\r\n    </g>\r\n    <g id=\"xtick_6\">\r\n     <g id=\"line2d_6\">\r\n      <g>\r\n       <use style=\"stroke:#000000;stroke-width:0.8;\" x=\"565.69807\" xlink:href=\"#m589c346017\" y=\"130.288235\"/>\r\n      </g>\r\n     </g>\r\n     <g id=\"text_6\">\r\n      <!-- 250 -->\r\n      <g transform=\"translate(551.382445 148.685892)scale(0.15 -0.15)\">\r\n       <use xlink:href=\"#DejaVuSans-50\"/>\r\n       <use x=\"63.623047\" xlink:href=\"#DejaVuSans-53\"/>\r\n       <use x=\"127.246094\" xlink:href=\"#DejaVuSans-48\"/>\r\n      </g>\r\n     </g>\r\n    </g>\r\n    <g id=\"text_7\">\r\n     <!-- y -->\r\n     <defs>\r\n      <path d=\"M 32.171875 -5.078125 \r\nQ 28.375 -14.84375 24.75 -17.8125 \r\nQ 21.140625 -20.796875 15.09375 -20.796875 \r\nL 7.90625 -20.796875 \r\nL 7.90625 -13.28125 \r\nL 13.1875 -13.28125 \r\nQ 16.890625 -13.28125 18.9375 -11.515625 \r\nQ 21 -9.765625 23.484375 -3.21875 \r\nL 25.09375 0.875 \r\nL 2.984375 54.6875 \r\nL 12.5 54.6875 \r\nL 29.59375 11.921875 \r\nL 46.6875 54.6875 \r\nL 56.203125 54.6875 \r\nz\r\n\" id=\"DejaVuSans-121\"/>\r\n     </defs>\r\n     <g transform=\"translate(326.365625 167.203079)scale(0.15 -0.15)\">\r\n      <use xlink:href=\"#DejaVuSans-121\"/>\r\n     </g>\r\n    </g>\r\n   </g>\r\n   <g id=\"matplotlib.axis_2\">\r\n    <g id=\"ytick_1\">\r\n     <g id=\"line2d_7\">\r\n      <defs>\r\n       <path d=\"M 0 0 \r\nL -3.5 0 \r\n\" id=\"m48afa66d2a\" style=\"stroke:#000000;stroke-width:0.8;\"/>\r\n      </defs>\r\n      <g>\r\n       <use style=\"stroke:#000000;stroke-width:0.8;\" x=\"51.804687\" xlink:href=\"#m48afa66d2a\" y=\"129.2625\"/>\r\n      </g>\r\n     </g>\r\n     <g id=\"text_8\">\r\n      <!-- 0 -->\r\n      <g transform=\"translate(35.260937 134.961328)scale(0.15 -0.15)\">\r\n       <use xlink:href=\"#DejaVuSans-48\"/>\r\n      </g>\r\n     </g>\r\n    </g>\r\n    <g id=\"ytick_2\">\r\n     <g id=\"line2d_8\">\r\n      <g>\r\n       <use style=\"stroke:#000000;stroke-width:0.8;\" x=\"51.804687\" xlink:href=\"#m48afa66d2a\" y=\"88.233088\"/>\r\n      </g>\r\n     </g>\r\n     <g id=\"text_9\">\r\n      <!-- 20 -->\r\n      <g transform=\"translate(25.717187 93.931916)scale(0.15 -0.15)\">\r\n       <use xlink:href=\"#DejaVuSans-50\"/>\r\n       <use x=\"63.623047\" xlink:href=\"#DejaVuSans-48\"/>\r\n      </g>\r\n     </g>\r\n    </g>\r\n    <g id=\"ytick_3\">\r\n     <g id=\"line2d_9\">\r\n      <g>\r\n       <use style=\"stroke:#000000;stroke-width:0.8;\" x=\"51.804687\" xlink:href=\"#m48afa66d2a\" y=\"47.203676\"/>\r\n      </g>\r\n     </g>\r\n     <g id=\"text_10\">\r\n      <!-- 40 -->\r\n      <defs>\r\n       <path d=\"M 37.796875 64.3125 \r\nL 12.890625 25.390625 \r\nL 37.796875 25.390625 \r\nz\r\nM 35.203125 72.90625 \r\nL 47.609375 72.90625 \r\nL 47.609375 25.390625 \r\nL 58.015625 25.390625 \r\nL 58.015625 17.1875 \r\nL 47.609375 17.1875 \r\nL 47.609375 0 \r\nL 37.796875 0 \r\nL 37.796875 17.1875 \r\nL 4.890625 17.1875 \r\nL 4.890625 26.703125 \r\nz\r\n\" id=\"DejaVuSans-52\"/>\r\n      </defs>\r\n      <g transform=\"translate(25.717187 52.902505)scale(0.15 -0.15)\">\r\n       <use xlink:href=\"#DejaVuSans-52\"/>\r\n       <use x=\"63.623047\" xlink:href=\"#DejaVuSans-48\"/>\r\n      </g>\r\n     </g>\r\n    </g>\r\n    <g id=\"text_11\">\r\n     <!-- z -->\r\n     <defs>\r\n      <path d=\"M 5.515625 54.6875 \r\nL 48.1875 54.6875 \r\nL 48.1875 46.484375 \r\nL 14.40625 7.171875 \r\nL 48.1875 7.171875 \r\nL 48.1875 0 \r\nL 4.296875 0 \r\nL 4.296875 8.203125 \r\nL 38.09375 47.515625 \r\nL 5.515625 47.515625 \r\nz\r\n\" id=\"DejaVuSans-122\"/>\r\n     </defs>\r\n     <g transform=\"translate(18.597656 72.680446)rotate(-90)scale(0.15 -0.15)\">\r\n      <use xlink:href=\"#DejaVuSans-122\"/>\r\n     </g>\r\n    </g>\r\n   </g>\r\n   <g id=\"patch_3\">\r\n    <path d=\"M 51.804687 130.288235 \r\nL 51.804687 7.2 \r\n\" style=\"fill:none;stroke:#000000;stroke-linecap:square;stroke-linejoin:miter;stroke-width:0.8;\"/>\r\n   </g>\r\n   <g id=\"patch_4\">\r\n    <path d=\"M 609.804688 130.288235 \r\nL 609.804688 7.2 \r\n\" style=\"fill:none;stroke:#000000;stroke-linecap:square;stroke-linejoin:miter;stroke-width:0.8;\"/>\r\n   </g>\r\n   <g id=\"patch_5\">\r\n    <path d=\"M 51.804687 130.288235 \r\nL 609.804688 130.288235 \r\n\" style=\"fill:none;stroke:#000000;stroke-linecap:square;stroke-linejoin:miter;stroke-width:0.8;\"/>\r\n   </g>\r\n   <g id=\"patch_6\">\r\n    <path d=\"M 51.804687 7.2 \r\nL 609.804688 7.2 \r\n\" style=\"fill:none;stroke:#000000;stroke-linecap:square;stroke-linejoin:miter;stroke-width:0.8;\"/>\r\n   </g>\r\n  </g>\r\n  <g id=\"axes_2\">\r\n   <g id=\"patch_7\">\r\n    <path d=\"M 51.804687 457.569385 \r\nL 609.804688 457.569385 \r\nL 609.804688 272.937032 \r\nL 51.804687 272.937032 \r\nz\r\n\" style=\"fill:#ffffff;\"/>\r\n   </g>\r\n   <g clip-path=\"url(#p421a64a9e7)\">\r\n    <image height=\"185\" id=\"image383f185fa6\" transform=\"scale(1 -1)translate(0 -185)\" width=\"558\" x=\"51.804687\" xlink:href=\"data:image/png;base64,\r\niVBORw0KGgoAAAANSUhEUgAAAi4AAAC5CAYAAAAPtrQNAAAABHNCSVQICAgIfAhkiAAABYxJREFUeJzt3TFu1EAABdANcAUuxyVSkBIJIVGSgktwmtwkZ4hMkVhkrTXr3bU982fe65IispTm63+P524YnoYDFPLyeH/088+H50JPAtm+/fp88vcfv/7e+UlgWx9KPwAAwFKCCwAQ41PpB4D3xrrbZATLmIjojcYFAIghuAAAMUxFAIFMRPRK4wIAxBBcAIAYpiKKGmvt6YfogMuYiOiFxgUAiCG4AAAxTEUAQaaniUxE9EbjAgDEEFwAgBimIqrkziI4ZiKCVxoXACCG4AIAxDAVAVTMRATHNC4AQAzBBQCIIbgAADG840IVXLYIx6bvtgCvNC4AQAzBBQCIYSoCqMjcROQYNLzSuAAAMQQXACCGqQigAiYiWEbjAgDEEFwAgBimIqo21uc/H54LPwnsy0QEp2lcAIAYggsAEMNUBFDQ9DSRiQj+T+MCAMQQXACAGKYiqjLW5C+P94WfBLZlIoLraFwAgBiCCwAQw1QEsCMTEdxG4wIAxBBcAIAYpiIiuLOIdNOJCLiOxgUAiCG4AAAxTEUAG5qbiJwmgutoXACAGIILABDDVESV3FlEOhMRbEPjAgDEEFwAgBimIoAVmYhgWxoXACCG4AIAxDAVEcWdRaQxEcG6NC4AQAzBBQCIIbgAADG84wJwo1NHoL3bAtvQuAAAMQQXACCGqQjgSiYi2J/GBQCIIbgAADFMRVRtrN1fHu8LPwn8M3eRIrA9jQsAEENwAQBimIqI5LJFSpibiJwkgv1oXACAGIILABDDVARwhokI6qFxAQBiCC4AQAxTERF8iI4STERQH40LABBDcAEAYpiKACZMRFAvjQsAEENwAQBimIqI5s4i1mQigvppXACAGIILABDDVAR0z0QEOTQuAEAMwQUAiGEqIoo7i1iTiQjyaFwAgBiCCwAQw1QEdMdEBLk0LgBADMEFAIhhKqIJ76t/9xZxKRMR5NC4AAAxBBcAIIbgAgDE8I4L0I3pMWjvtkAejQsAEENwAQBimIqI5LJFLjH3pVwgj8YFAIghuAAAMUxFNGecBXxBF5cpQns0LgBADMEFAIhhKgKaYyKCdmlcAIAYggsAEMNURLOcLuqPiQjap3EBAGIILgBADFMR0dxZxOFgIoKeaFwAgBiCCwAQw1QE7Go669xy6stEBP3RuAAAMQQXACCGqYjm+RBdHeZmne/Dn6Off9x9ufpvmYigfRoXACCG4AIAxLgbhqeh9EPAmuY+RmcqKuPaWefUZGQiAjQuAEAMwQUAiGEqojnn7i0yGe1ji1ln+r81EUF/NC4AQAzBBQCIYSqiWU4XleHkD7AljQsAEENwAQBiuKsIWIWJCNiDxgUAiCG4AAAxBBcAIIbj0DTPsehtebcF2JPGBQCIIbgAADEchwauYiICStC4AAAxBBcAIIapiG6NU4fTRZcxEQElaVwAgBiCCwAQw1RE88YJY+5DdCxjIgJqoHEBAGIILgBADFMR3XO66LS5aWhkIgJK0LgAADEEFwAghqmIbjhdtIyJCKiZxgUAiCG4AAAxTEXwpufTRefmocPBRATUQeMCAMQQXACAGHfD8DSUfggo4dzpopYnoyXT0MhEBNRE4wIAxBBcAIAYThXBjBZPGZmIgHQaFwAghuACAMQwFdGtnu4ucv8Q0AqNCwAQQ3ABAGKYiuCM5NNFJiKgNRoXACCG4AIAxHBXEbxZerooYTIyEQGt0rgAADEEFwAghuACAMTwjgtMJL7r4p0WoBcaFwAghuACAMQwFcGMmiejc9PQyEQEtEbjAgDEEFwAgBguWYQbzc02a0xISyehKRMR0CqNCwAQQ3ABAGI4VQRnLD1ddInpjHTtJDRlIgJap3EBAGIILgBADFMRLLTFZLQWExHQC40LABBDcAEAYvwFwI4u7X9CeCMAAAAASUVORK5CYII=\" y=\"-272.569385\"/>\r\n   </g>\r\n   <g id=\"matplotlib.axis_3\">\r\n    <g id=\"xtick_7\">\r\n     <g id=\"line2d_10\">\r\n      <g>\r\n       <use style=\"stroke:#000000;stroke-width:0.8;\" x=\"52.830423\" xlink:href=\"#m589c346017\" y=\"457.569385\"/>\r\n      </g>\r\n     </g>\r\n     <g id=\"text_12\">\r\n      <!-- 0 -->\r\n      <g transform=\"translate(48.058548 475.967041)scale(0.15 -0.15)\">\r\n       <use xlink:href=\"#DejaVuSans-48\"/>\r\n      </g>\r\n     </g>\r\n    </g>\r\n    <g id=\"xtick_8\">\r\n     <g id=\"line2d_11\">\r\n      <g>\r\n       <use style=\"stroke:#000000;stroke-width:0.8;\" x=\"155.403952\" xlink:href=\"#m589c346017\" y=\"457.569385\"/>\r\n      </g>\r\n     </g>\r\n     <g id=\"text_13\">\r\n      <!-- 50 -->\r\n      <g transform=\"translate(145.860202 475.967041)scale(0.15 -0.15)\">\r\n       <use xlink:href=\"#DejaVuSans-53\"/>\r\n       <use x=\"63.623047\" xlink:href=\"#DejaVuSans-48\"/>\r\n      </g>\r\n     </g>\r\n    </g>\r\n    <g id=\"xtick_9\">\r\n     <g id=\"line2d_12\">\r\n      <g>\r\n       <use style=\"stroke:#000000;stroke-width:0.8;\" x=\"257.977482\" xlink:href=\"#m589c346017\" y=\"457.569385\"/>\r\n      </g>\r\n     </g>\r\n     <g id=\"text_14\">\r\n      <!-- 100 -->\r\n      <g transform=\"translate(243.661857 475.967041)scale(0.15 -0.15)\">\r\n       <use xlink:href=\"#DejaVuSans-49\"/>\r\n       <use x=\"63.623047\" xlink:href=\"#DejaVuSans-48\"/>\r\n       <use x=\"127.246094\" xlink:href=\"#DejaVuSans-48\"/>\r\n      </g>\r\n     </g>\r\n    </g>\r\n    <g id=\"xtick_10\">\r\n     <g id=\"line2d_13\">\r\n      <g>\r\n       <use style=\"stroke:#000000;stroke-width:0.8;\" x=\"360.551011\" xlink:href=\"#m589c346017\" y=\"457.569385\"/>\r\n      </g>\r\n     </g>\r\n     <g id=\"text_15\">\r\n      <!-- 150 -->\r\n      <g transform=\"translate(346.235386 475.967041)scale(0.15 -0.15)\">\r\n       <use xlink:href=\"#DejaVuSans-49\"/>\r\n       <use x=\"63.623047\" xlink:href=\"#DejaVuSans-53\"/>\r\n       <use x=\"127.246094\" xlink:href=\"#DejaVuSans-48\"/>\r\n      </g>\r\n     </g>\r\n    </g>\r\n    <g id=\"xtick_11\">\r\n     <g id=\"line2d_14\">\r\n      <g>\r\n       <use style=\"stroke:#000000;stroke-width:0.8;\" x=\"463.12454\" xlink:href=\"#m589c346017\" y=\"457.569385\"/>\r\n      </g>\r\n     </g>\r\n     <g id=\"text_16\">\r\n      <!-- 200 -->\r\n      <g transform=\"translate(448.808915 475.967041)scale(0.15 -0.15)\">\r\n       <use xlink:href=\"#DejaVuSans-50\"/>\r\n       <use x=\"63.623047\" xlink:href=\"#DejaVuSans-48\"/>\r\n       <use x=\"127.246094\" xlink:href=\"#DejaVuSans-48\"/>\r\n      </g>\r\n     </g>\r\n    </g>\r\n    <g id=\"xtick_12\">\r\n     <g id=\"line2d_15\">\r\n      <g>\r\n       <use style=\"stroke:#000000;stroke-width:0.8;\" x=\"565.69807\" xlink:href=\"#m589c346017\" y=\"457.569385\"/>\r\n      </g>\r\n     </g>\r\n     <g id=\"text_17\">\r\n      <!-- 250 -->\r\n      <g transform=\"translate(551.382445 475.967041)scale(0.15 -0.15)\">\r\n       <use xlink:href=\"#DejaVuSans-50\"/>\r\n       <use x=\"63.623047\" xlink:href=\"#DejaVuSans-53\"/>\r\n       <use x=\"127.246094\" xlink:href=\"#DejaVuSans-48\"/>\r\n      </g>\r\n     </g>\r\n    </g>\r\n    <g id=\"text_18\">\r\n     <!-- x -->\r\n     <defs>\r\n      <path d=\"M 54.890625 54.6875 \r\nL 35.109375 28.078125 \r\nL 55.90625 0 \r\nL 45.3125 0 \r\nL 29.390625 21.484375 \r\nL 13.484375 0 \r\nL 2.875 0 \r\nL 24.125 28.609375 \r\nL 4.6875 54.6875 \r\nL 15.28125 54.6875 \r\nL 29.78125 35.203125 \r\nL 44.28125 54.6875 \r\nz\r\n\" id=\"DejaVuSans-120\"/>\r\n     </defs>\r\n     <g transform=\"translate(326.365625 494.484229)scale(0.15 -0.15)\">\r\n      <use xlink:href=\"#DejaVuSans-120\"/>\r\n     </g>\r\n    </g>\r\n   </g>\r\n   <g id=\"matplotlib.axis_4\">\r\n    <g id=\"ytick_4\">\r\n     <g id=\"line2d_16\">\r\n      <g>\r\n       <use style=\"stroke:#000000;stroke-width:0.8;\" x=\"51.804687\" xlink:href=\"#m48afa66d2a\" y=\"456.030782\"/>\r\n      </g>\r\n     </g>\r\n     <g id=\"text_19\">\r\n      <!-- 0 -->\r\n      <g transform=\"translate(35.260937 461.72961)scale(0.15 -0.15)\">\r\n       <use xlink:href=\"#DejaVuSans-48\"/>\r\n      </g>\r\n     </g>\r\n    </g>\r\n    <g id=\"ytick_5\">\r\n     <g id=\"line2d_17\">\r\n      <g>\r\n       <use style=\"stroke:#000000;stroke-width:0.8;\" x=\"51.804687\" xlink:href=\"#m48afa66d2a\" y=\"425.258723\"/>\r\n      </g>\r\n     </g>\r\n     <g id=\"text_20\">\r\n      <!-- 10 -->\r\n      <g transform=\"translate(25.717187 430.957551)scale(0.15 -0.15)\">\r\n       <use xlink:href=\"#DejaVuSans-49\"/>\r\n       <use x=\"63.623047\" xlink:href=\"#DejaVuSans-48\"/>\r\n      </g>\r\n     </g>\r\n    </g>\r\n    <g id=\"ytick_6\">\r\n     <g id=\"line2d_18\">\r\n      <g>\r\n       <use style=\"stroke:#000000;stroke-width:0.8;\" x=\"51.804687\" xlink:href=\"#m48afa66d2a\" y=\"394.486664\"/>\r\n      </g>\r\n     </g>\r\n     <g id=\"text_21\">\r\n      <!-- 20 -->\r\n      <g transform=\"translate(25.717187 400.185493)scale(0.15 -0.15)\">\r\n       <use xlink:href=\"#DejaVuSans-50\"/>\r\n       <use x=\"63.623047\" xlink:href=\"#DejaVuSans-48\"/>\r\n      </g>\r\n     </g>\r\n    </g>\r\n    <g id=\"ytick_7\">\r\n     <g id=\"line2d_19\">\r\n      <g>\r\n       <use style=\"stroke:#000000;stroke-width:0.8;\" x=\"51.804687\" xlink:href=\"#m48afa66d2a\" y=\"363.714606\"/>\r\n      </g>\r\n     </g>\r\n     <g id=\"text_22\">\r\n      <!-- 30 -->\r\n      <defs>\r\n       <path d=\"M 40.578125 39.3125 \r\nQ 47.65625 37.796875 51.625 33 \r\nQ 55.609375 28.21875 55.609375 21.1875 \r\nQ 55.609375 10.40625 48.1875 4.484375 \r\nQ 40.765625 -1.421875 27.09375 -1.421875 \r\nQ 22.515625 -1.421875 17.65625 -0.515625 \r\nQ 12.796875 0.390625 7.625 2.203125 \r\nL 7.625 11.71875 \r\nQ 11.71875 9.328125 16.59375 8.109375 \r\nQ 21.484375 6.890625 26.8125 6.890625 \r\nQ 36.078125 6.890625 40.9375 10.546875 \r\nQ 45.796875 14.203125 45.796875 21.1875 \r\nQ 45.796875 27.640625 41.28125 31.265625 \r\nQ 36.765625 34.90625 28.71875 34.90625 \r\nL 20.21875 34.90625 \r\nL 20.21875 43.015625 \r\nL 29.109375 43.015625 \r\nQ 36.375 43.015625 40.234375 45.921875 \r\nQ 44.09375 48.828125 44.09375 54.296875 \r\nQ 44.09375 59.90625 40.109375 62.90625 \r\nQ 36.140625 65.921875 28.71875 65.921875 \r\nQ 24.65625 65.921875 20.015625 65.03125 \r\nQ 15.375 64.15625 9.8125 62.3125 \r\nL 9.8125 71.09375 \r\nQ 15.4375 72.65625 20.34375 73.4375 \r\nQ 25.25 74.21875 29.59375 74.21875 \r\nQ 40.828125 74.21875 47.359375 69.109375 \r\nQ 53.90625 64.015625 53.90625 55.328125 \r\nQ 53.90625 49.265625 50.4375 45.09375 \r\nQ 46.96875 40.921875 40.578125 39.3125 \r\nz\r\n\" id=\"DejaVuSans-51\"/>\r\n      </defs>\r\n      <g transform=\"translate(25.717187 369.413434)scale(0.15 -0.15)\">\r\n       <use xlink:href=\"#DejaVuSans-51\"/>\r\n       <use x=\"63.623047\" xlink:href=\"#DejaVuSans-48\"/>\r\n      </g>\r\n     </g>\r\n    </g>\r\n    <g id=\"ytick_8\">\r\n     <g id=\"line2d_20\">\r\n      <g>\r\n       <use style=\"stroke:#000000;stroke-width:0.8;\" x=\"51.804687\" xlink:href=\"#m48afa66d2a\" y=\"332.942547\"/>\r\n      </g>\r\n     </g>\r\n     <g id=\"text_23\">\r\n      <!-- 40 -->\r\n      <g transform=\"translate(25.717187 338.641375)scale(0.15 -0.15)\">\r\n       <use xlink:href=\"#DejaVuSans-52\"/>\r\n       <use x=\"63.623047\" xlink:href=\"#DejaVuSans-48\"/>\r\n      </g>\r\n     </g>\r\n    </g>\r\n    <g id=\"ytick_9\">\r\n     <g id=\"line2d_21\">\r\n      <g>\r\n       <use style=\"stroke:#000000;stroke-width:0.8;\" x=\"51.804687\" xlink:href=\"#m48afa66d2a\" y=\"302.170488\"/>\r\n      </g>\r\n     </g>\r\n     <g id=\"text_24\">\r\n      <!-- 50 -->\r\n      <g transform=\"translate(25.717187 307.869316)scale(0.15 -0.15)\">\r\n       <use xlink:href=\"#DejaVuSans-53\"/>\r\n       <use x=\"63.623047\" xlink:href=\"#DejaVuSans-48\"/>\r\n      </g>\r\n     </g>\r\n    </g>\r\n    <g id=\"text_25\">\r\n     <!-- z -->\r\n     <g transform=\"translate(18.597656 369.189537)rotate(-90)scale(0.15 -0.15)\">\r\n      <use xlink:href=\"#DejaVuSans-122\"/>\r\n     </g>\r\n    </g>\r\n   </g>\r\n   <g id=\"patch_8\">\r\n    <path d=\"M 51.804687 457.569385 \r\nL 51.804687 272.937032 \r\n\" style=\"fill:none;stroke:#000000;stroke-linecap:square;stroke-linejoin:miter;stroke-width:0.8;\"/>\r\n   </g>\r\n   <g id=\"patch_9\">\r\n    <path d=\"M 609.804688 457.569385 \r\nL 609.804688 272.937032 \r\n\" style=\"fill:none;stroke:#000000;stroke-linecap:square;stroke-linejoin:miter;stroke-width:0.8;\"/>\r\n   </g>\r\n   <g id=\"patch_10\">\r\n    <path d=\"M 51.804687 457.569385 \r\nL 609.804688 457.569385 \r\n\" style=\"fill:none;stroke:#000000;stroke-linecap:square;stroke-linejoin:miter;stroke-width:0.8;\"/>\r\n   </g>\r\n   <g id=\"patch_11\">\r\n    <path d=\"M 51.804687 272.937032 \r\nL 609.804688 272.937032 \r\n\" style=\"fill:none;stroke:#000000;stroke-linecap:square;stroke-linejoin:miter;stroke-width:0.8;\"/>\r\n   </g>\r\n  </g>\r\n </g>\r\n <defs>\r\n  <clipPath id=\"p31f174d6b6\">\r\n   <rect height=\"123.088235\" width=\"558\" x=\"51.804687\" y=\"7.2\"/>\r\n  </clipPath>\r\n  <clipPath id=\"p421a64a9e7\">\r\n   <rect height=\"184.632353\" width=\"558\" x=\"51.804687\" y=\"272.937032\"/>\r\n  </clipPath>\r\n </defs>\r\n</svg>\r\n",
      "image/png": "[encoded data removed]"
     },
     "metadata": {
      "needs_background": "light"
     }
    }
   ],
   "source": [
    "h_out = pynoddy.output.NoddyOutput(output)\n",
    "# his.determine_model_stratigraphy()\n",
    "fig, (x,y) = plt.subplots(2,1, sharex=False, sharey=False, figsize=(10,10))\n",
    "h_out.plot_section('x',\n",
    "                   layer_labels = his.model_stratigraphy,\n",
    "                   colorbar_orientation = 'horizontal',\n",
    "                   colorbar=False,\n",
    "                   title = '',\n",
    "#                   savefig=True, fig_filename = 'fold_thrust_NS_section.eps',\n",
    "                   cmap = 'YlOrRd',\n",
    "                   ax = x)\n",
    "\n",
    "h_out.plot_section('y',\n",
    "                    layer_labels = his.model_stratigraphy,\n",
    "                    colorbar_orientation = 'horizontal',\n",
    "                    title = '',\n",
    "                    cmap = 'YlOrRd',\n",
    "#                   savefig=True, fig_filename = 'fold_thrust_EW_section.eps',\n",
    "                    ve=1.5,\n",
    "                    ax = y)\n",
    "\n",
    "# h_out.export_to_vtk(vtk_filename = \"fold_thrust\")"
   ]
  },
  {
   "cell_type": "markdown",
   "metadata": {},
   "source": [
    "## Caclulate and plot Geophysics"
   ]
  },
  {
   "cell_type": "code",
   "execution_count": 11,
   "metadata": {},
   "outputs": [
    {
     "output_type": "error",
     "ename": "FileNotFoundError",
     "evalue": "[Errno 2] No such file or directory: 'output/ftfellip.grv'",
     "traceback": [
      "\u001b[1;31m---------------------------------------------------------------------------\u001b[0m",
      "\u001b[1;31mFileNotFoundError\u001b[0m                         Traceback (most recent call last)",
      "\u001b[1;32m<ipython-input-11-95690063b1da>\u001b[0m in \u001b[0;36m<module>\u001b[1;34m\u001b[0m\n\u001b[0;32m      1\u001b[0m \u001b[0mpynoddy\u001b[0m\u001b[1;33m.\u001b[0m\u001b[0mcompute_model\u001b[0m\u001b[1;33m(\u001b[0m\u001b[0mhistory_name\u001b[0m\u001b[1;33m,\u001b[0m \u001b[0moutput\u001b[0m\u001b[1;33m,\u001b[0m \u001b[0msim_type\u001b[0m \u001b[1;33m=\u001b[0m \u001b[1;34m\"GEOPHYSICS\"\u001b[0m\u001b[1;33m)\u001b[0m\u001b[1;33m\u001b[0m\u001b[1;33m\u001b[0m\u001b[0m\n\u001b[1;32m----> 2\u001b[1;33m \u001b[0mgeophys\u001b[0m \u001b[1;33m=\u001b[0m \u001b[0mpynoddy\u001b[0m\u001b[1;33m.\u001b[0m\u001b[0moutput\u001b[0m\u001b[1;33m.\u001b[0m\u001b[0mNoddyGeophysics\u001b[0m\u001b[1;33m(\u001b[0m\u001b[0moutput\u001b[0m\u001b[1;33m)\u001b[0m\u001b[1;33m\u001b[0m\u001b[1;33m\u001b[0m\u001b[0m\n\u001b[0m",
      "\u001b[1;32mc:\\Luke\\Python\\Processing\\pynoddy\\pynoddy\\output.py\u001b[0m in \u001b[0;36m__init__\u001b[1;34m(self, output_name)\u001b[0m\n\u001b[0;32m    919\u001b[0m         \"\"\"\n\u001b[0;32m    920\u001b[0m         \u001b[0mself\u001b[0m\u001b[1;33m.\u001b[0m\u001b[0mbasename\u001b[0m \u001b[1;33m=\u001b[0m \u001b[0moutput_name\u001b[0m\u001b[1;33m\u001b[0m\u001b[1;33m\u001b[0m\u001b[0m\n\u001b[1;32m--> 921\u001b[1;33m         \u001b[0mself\u001b[0m\u001b[1;33m.\u001b[0m\u001b[0mread_gravity\u001b[0m\u001b[1;33m(\u001b[0m\u001b[1;33m)\u001b[0m\u001b[1;33m\u001b[0m\u001b[1;33m\u001b[0m\u001b[0m\n\u001b[0m\u001b[0;32m    922\u001b[0m         \u001b[0mself\u001b[0m\u001b[1;33m.\u001b[0m\u001b[0mread_magnetics\u001b[0m\u001b[1;33m(\u001b[0m\u001b[1;33m)\u001b[0m\u001b[1;33m\u001b[0m\u001b[1;33m\u001b[0m\u001b[0m\n\u001b[0;32m    923\u001b[0m \u001b[1;33m\u001b[0m\u001b[0m\n",
      "\u001b[1;32mc:\\Luke\\Python\\Processing\\pynoddy\\pynoddy\\output.py\u001b[0m in \u001b[0;36mread_gravity\u001b[1;34m(self)\u001b[0m\n\u001b[0;32m    924\u001b[0m     \u001b[1;32mdef\u001b[0m \u001b[0mread_gravity\u001b[0m\u001b[1;33m(\u001b[0m\u001b[0mself\u001b[0m\u001b[1;33m)\u001b[0m\u001b[1;33m:\u001b[0m\u001b[1;33m\u001b[0m\u001b[1;33m\u001b[0m\u001b[0m\n\u001b[0;32m    925\u001b[0m         \u001b[1;34m\"\"\"Read calculated gravity response\"\"\"\u001b[0m\u001b[1;33m\u001b[0m\u001b[1;33m\u001b[0m\u001b[0m\n\u001b[1;32m--> 926\u001b[1;33m         \u001b[0mgrv_lines\u001b[0m \u001b[1;33m=\u001b[0m \u001b[0mopen\u001b[0m\u001b[1;33m(\u001b[0m\u001b[0mself\u001b[0m\u001b[1;33m.\u001b[0m\u001b[0mbasename\u001b[0m \u001b[1;33m+\u001b[0m \u001b[1;34m\".grv\"\u001b[0m\u001b[1;33m,\u001b[0m \u001b[1;34m'r'\u001b[0m\u001b[1;33m)\u001b[0m\u001b[1;33m.\u001b[0m\u001b[0mreadlines\u001b[0m\u001b[1;33m(\u001b[0m\u001b[1;33m)\u001b[0m\u001b[1;33m\u001b[0m\u001b[1;33m\u001b[0m\u001b[0m\n\u001b[0m\u001b[0;32m    927\u001b[0m         \u001b[0mself\u001b[0m\u001b[1;33m.\u001b[0m\u001b[0mgrv_header\u001b[0m \u001b[1;33m=\u001b[0m \u001b[0mgrv_lines\u001b[0m\u001b[1;33m[\u001b[0m\u001b[1;33m:\u001b[0m\u001b[1;36m8\u001b[0m\u001b[1;33m]\u001b[0m\u001b[1;33m\u001b[0m\u001b[1;33m\u001b[0m\u001b[0m\n\u001b[0;32m    928\u001b[0m         \u001b[1;31m# read in data\u001b[0m\u001b[1;33m\u001b[0m\u001b[1;33m\u001b[0m\u001b[1;33m\u001b[0m\u001b[0m\n",
      "\u001b[1;31mFileNotFoundError\u001b[0m: [Errno 2] No such file or directory: 'output/ftfellip.grv'"
     ]
    }
   ],
   "source": [
    "pynoddy.compute_model(history_name, output, sim_type = \"GEOPHYSICS\")\n",
    "geophys = pynoddy.output.NoddyGeophysics(output)"
   ]
  },
  {
   "cell_type": "code",
   "execution_count": 12,
   "metadata": {},
   "outputs": [
    {
     "output_type": "error",
     "ename": "NameError",
     "evalue": "name 'geophys' is not defined",
     "traceback": [
      "\u001b[1;31m---------------------------------------------------------------------------\u001b[0m",
      "\u001b[1;31mNameError\u001b[0m                                 Traceback (most recent call last)",
      "\u001b[1;32m<ipython-input-12-b8016a0b3329>\u001b[0m in \u001b[0;36m<module>\u001b[1;34m\u001b[0m\n\u001b[0;32m      4\u001b[0m \u001b[1;31m# define contour levels\u001b[0m\u001b[1;33m\u001b[0m\u001b[1;33m\u001b[0m\u001b[1;33m\u001b[0m\u001b[0m\n\u001b[0;32m      5\u001b[0m \u001b[1;31m# levels = np.arange(322,344,1)\u001b[0m\u001b[1;33m\u001b[0m\u001b[1;33m\u001b[0m\u001b[1;33m\u001b[0m\u001b[0m\n\u001b[1;32m----> 6\u001b[1;33m \u001b[0mcf\u001b[0m \u001b[1;33m=\u001b[0m \u001b[0max\u001b[0m\u001b[1;33m.\u001b[0m\u001b[0mcontourf\u001b[0m\u001b[1;33m(\u001b[0m\u001b[0mgeophys\u001b[0m\u001b[1;33m.\u001b[0m\u001b[0mgrv_data\u001b[0m\u001b[1;33m,\u001b[0m \u001b[0mcmap\u001b[0m \u001b[1;33m=\u001b[0m \u001b[0mcc\u001b[0m\u001b[1;33m.\u001b[0m\u001b[0mcm\u001b[0m\u001b[1;33m.\u001b[0m\u001b[0mgray\u001b[0m\u001b[1;33m)\u001b[0m \u001b[1;31m#, vmin = 324, vmax = 342) # levels,\u001b[0m\u001b[1;33m\u001b[0m\u001b[1;33m\u001b[0m\u001b[0m\n\u001b[0m\u001b[0;32m      7\u001b[0m \u001b[0max\u001b[0m\u001b[1;33m.\u001b[0m\u001b[0minvert_yaxis\u001b[0m\u001b[1;33m(\u001b[0m\u001b[1;33m)\u001b[0m\u001b[1;33m\u001b[0m\u001b[1;33m\u001b[0m\u001b[0m\n\u001b[0;32m      8\u001b[0m \u001b[0mcbar\u001b[0m \u001b[1;33m=\u001b[0m \u001b[0mplt\u001b[0m\u001b[1;33m.\u001b[0m\u001b[0mcolorbar\u001b[0m\u001b[1;33m(\u001b[0m\u001b[0mcf\u001b[0m\u001b[1;33m,\u001b[0m \u001b[0morientation\u001b[0m \u001b[1;33m=\u001b[0m \u001b[1;34m'horizontal'\u001b[0m\u001b[1;33m)\u001b[0m\u001b[1;33m\u001b[0m\u001b[1;33m\u001b[0m\u001b[0m\n",
      "\u001b[1;31mNameError\u001b[0m: name 'geophys' is not defined"
     ]
    }
   ],
   "source": [
    "fig = plt.figure(figsize = (10,5))\n",
    "ax = fig.add_subplot(121)\n",
    "# imshow(geophys.grv_data, cmap = 'jet')\n",
    "# define contour levels\n",
    "# levels = np.arange(322,344,1)\n",
    "cf = ax.contourf(geophys.grv_data, cmap = cc.cm.gray) #, vmin = 324, vmax = 342) # levels,\n",
    "ax.invert_yaxis()\n",
    "cbar = plt.colorbar(cf, orientation = 'horizontal')\n",
    "ax = fig.add_subplot(122)\n",
    "cf = ax.contourf(geophys.mag_data, cmap = cc.cm.gray)\n",
    "ax.invert_yaxis()\n",
    "\n",
    "cbar = plt.colorbar(cf, orientation = 'horizontal')"
   ]
  },
  {
   "cell_type": "markdown",
   "metadata": {},
   "source": [
    "## Perform a synthetic survey and plot"
   ]
  },
  {
   "cell_type": "code",
   "execution_count": 13,
   "metadata": {},
   "outputs": [
    {
     "output_type": "error",
     "ename": "SyntaxError",
     "evalue": "invalid syntax (<ipython-input-13-1c27abf384fd>, line 1)",
     "traceback": [
      "\u001b[1;36m  File \u001b[1;32m\"<ipython-input-13-1c27abf384fd>\"\u001b[1;36m, line \u001b[1;32m1\u001b[0m\n\u001b[1;33m    pynoddy survey\u001b[0m\n\u001b[1;37m                 ^\u001b[0m\n\u001b[1;31mSyntaxError\u001b[0m\u001b[1;31m:\u001b[0m invalid syntax\n"
     ]
    }
   ],
   "source": [
    "pynoddy survey"
   ]
  },
  {
   "cell_type": "code",
   "execution_count": 14,
   "metadata": {},
   "outputs": [
    {
     "output_type": "error",
     "ename": "NameError",
     "evalue": "name 'Path' is not defined",
     "traceback": [
      "\u001b[1;31m---------------------------------------------------------------------------\u001b[0m",
      "\u001b[1;31mNameError\u001b[0m                                 Traceback (most recent call last)",
      "\u001b[1;32m<ipython-input-14-67cbb16ec00b>\u001b[0m in \u001b[0;36m<module>\u001b[1;34m\u001b[0m\n\u001b[1;32m----> 1\u001b[1;33m \u001b[0mgeo_data_list\u001b[0m \u001b[1;33m=\u001b[0m \u001b[0mlist\u001b[0m\u001b[1;33m(\u001b[0m\u001b[0mPath\u001b[0m\u001b[1;33m(\u001b[0m\u001b[1;34mr'C:\\Luke\\Python\\Processing\\pynoddy'\u001b[0m\u001b[1;33m)\u001b[0m\u001b[1;33m.\u001b[0m\u001b[0mglob\u001b[0m\u001b[1;33m(\u001b[0m\u001b[1;34m'**/*.geo'\u001b[0m\u001b[1;33m)\u001b[0m\u001b[1;33m)\u001b[0m\u001b[1;33m\u001b[0m\u001b[1;33m\u001b[0m\u001b[0m\n\u001b[0m\u001b[0;32m      2\u001b[0m \u001b[0mnames\u001b[0m \u001b[1;33m=\u001b[0m \u001b[1;33m[\u001b[0m\u001b[1;34m'X'\u001b[0m\u001b[1;33m,\u001b[0m \u001b[1;34m'Y'\u001b[0m\u001b[1;33m,\u001b[0m \u001b[1;34m'Z'\u001b[0m\u001b[1;33m,\u001b[0m \u001b[1;34m'MAGNETICS'\u001b[0m\u001b[1;33m,\u001b[0m \u001b[1;34m'GRAVITY'\u001b[0m\u001b[1;33m,\u001b[0m \u001b[1;34m'LINE'\u001b[0m\u001b[1;33m]\u001b[0m\u001b[1;33m\u001b[0m\u001b[1;33m\u001b[0m\u001b[0m\n\u001b[0;32m      3\u001b[0m \u001b[0mdf\u001b[0m \u001b[1;33m=\u001b[0m \u001b[0mpd\u001b[0m\u001b[1;33m.\u001b[0m\u001b[0mread_csv\u001b[0m\u001b[1;33m(\u001b[0m\u001b[0mXYZ_data_list\u001b[0m\u001b[1;33m[\u001b[0m\u001b[1;36m0\u001b[0m\u001b[1;33m]\u001b[0m\u001b[1;33m,\u001b[0m \u001b[0mnames\u001b[0m\u001b[1;33m=\u001b[0m\u001b[0mnames\u001b[0m\u001b[1;33m,\u001b[0m \u001b[0mdelim_whitespace\u001b[0m\u001b[1;33m=\u001b[0m\u001b[1;32mTrue\u001b[0m\u001b[1;33m,\u001b[0m \u001b[0mheader\u001b[0m\u001b[1;33m=\u001b[0m\u001b[1;36m0\u001b[0m\u001b[1;33m)\u001b[0m\u001b[1;33m\u001b[0m\u001b[1;33m\u001b[0m\u001b[0m\n\u001b[0;32m      4\u001b[0m \u001b[1;33m\u001b[0m\u001b[0m\n\u001b[0;32m      5\u001b[0m \u001b[0mplt\u001b[0m\u001b[1;33m.\u001b[0m\u001b[0mscatter\u001b[0m\u001b[1;33m(\u001b[0m\u001b[0mdf\u001b[0m\u001b[1;33m.\u001b[0m\u001b[0mX\u001b[0m\u001b[1;33m,\u001b[0m \u001b[0mdf\u001b[0m\u001b[1;33m.\u001b[0m\u001b[0mY\u001b[0m\u001b[1;33m,\u001b[0m \u001b[0mdf\u001b[0m\u001b[1;33m.\u001b[0m\u001b[0mGRAVITY\u001b[0m\u001b[1;33m)\u001b[0m\u001b[1;33m\u001b[0m\u001b[1;33m\u001b[0m\u001b[0m\n",
      "\u001b[1;31mNameError\u001b[0m: name 'Path' is not defined"
     ]
    }
   ],
   "source": [
    "geo_data_list = list(Path(r'C:\\Luke\\Python\\Processing\\pynoddy').glob('**/*.geo'))\n",
    "names = ['X', 'Y', 'Z', 'MAGNETICS', 'GRAVITY', 'LINE']\n",
    "df = pd.read_csv(XYZ_data_list[0], names=names, delim_whitespace=True, header=0)\n",
    "\n",
    "plt.scatter(df.X, df.Y, df.GRAVITY)\n",
    "plt.gca().invert_yaxis()"
   ]
  }
 ],
 "metadata": {
  "language_info": {
   "codemirror_mode": {
    "name": "ipython",
    "version": 3
   },
   "file_extension": ".py",
   "mimetype": "text/x-python",
   "name": "python",
   "nbconvert_exporter": "python",
   "pygments_lexer": "ipython3",
   "version": "3.6.10-final"
  },
  "orig_nbformat": 2,
  "kernelspec": {
   "name": "python361064bitfaticonda508dd6dad5c342cb873fc698029af82e",
   "display_name": "Python 3.6.10 64-bit ('fati': conda)"
  }
 },
 "nbformat": 4,
 "nbformat_minor": 2
}